{
 "cells": [
  {
   "cell_type": "code",
   "execution_count": 19,
   "metadata": {},
   "outputs": [],
   "source": [
    "import torch\n",
    "import torch.nn as nn\n",
    "import torch.nn.functional as F\n",
    "import torchvision\n",
    "from torchvision import datasets, transforms\n",
    "import torch.optim as optim\n",
    "import numpy as np\n",
    "import matplotlib.pyplot as plt"
   ]
  },
  {
   "cell_type": "markdown",
   "metadata": {},
   "source": [
    "## Data"
   ]
  },
  {
   "cell_type": "code",
   "execution_count": 8,
   "metadata": {},
   "outputs": [],
   "source": [
    "BATCH_SIZE = 64"
   ]
  },
  {
   "cell_type": "code",
   "execution_count": 12,
   "metadata": {},
   "outputs": [],
   "source": [
    "transform = transforms.Compose([transforms.ToTensor(),\n",
    "                                transforms.Normalize((0.1307,),(0.0381,))])\n",
    "train_loader = torch.utils.data.DataLoader(\n",
    "        datasets.MNIST('data', train=True, download=True, \n",
    "                       transform=transform),\n",
    "        batch_size=BATCH_SIZE, shuffle=True)\n",
    "test_loader = torch.utils.data.DataLoader(\n",
    "        datasets.MNIST('data', train=False, transform=transform),\n",
    "        batch_size=BATCH_SIZE, shuffle=True)\n",
    "classes = list('0123456789')"
   ]
  },
  {
   "cell_type": "code",
   "execution_count": 16,
   "metadata": {},
   "outputs": [
    {
     "name": "stderr",
     "output_type": "stream",
     "text": [
      "Clipping input data to the valid range for imshow with RGB data ([0..1] for floats or [0..255] for integers).\n"
     ]
    },
    {
     "data": {
      "image/png": "[encoded data removed]",
      "text/plain": [
       "<Figure size 432x288 with 1 Axes>"
      ]
     },
     "metadata": {
      "needs_background": "light"
     },
     "output_type": "display_data"
    },
    {
     "name": "stdout",
     "output_type": "stream",
     "text": [
      "  0   5   6   6   3   4   2   9   2   7   6   3   5   4   3   5   0   2   8   2   7   5   2   8   0   9   9   6   5   7   0   5   3   1   0   0   3   4   3   0   3   3   4   0   6   2   7   0   2   9   9   6   1   3   3   4   3   9   9   5   3   7   9   7\n"
     ]
    }
   ],
   "source": [
    "def imshow(img):\n",
    "    img = img / 2 + 0.5     \n",
    "    npimg = img.numpy()\n",
    "    plt.imshow(np.transpose(npimg, (1, 2, 0)))\n",
    "    plt.show()\n",
    "\n",
    "dataiter = iter(train_loader)\n",
    "images, labels = dataiter.next()\n",
    "imshow(torchvision.utils.make_grid(images))\n",
    "print(' '.join('%3s' % classes[labels[j]] for j in range(BATCH_SIZE)))"
   ]
  },
  {
   "cell_type": "code",
   "execution_count": 18,
   "metadata": {},
   "outputs": [],
   "source": [
    "class LeNet(nn.Module):\n",
    "    def __init__(self):\n",
    "        super().__init__()\n",
    "        self.conv1 = nn.Conv2d(1, 6, 5) # 24x24x6\n",
    "        self.avgpool1 = nn.AvgPool2d(2, 2)  # 12x12x6\n",
    "        self.conv2 = nn.Conv2d(6, 16, 5) # 8x8x16\n",
    "        self.avgpool2 = nn.AvgPool2d(2, 2)  # 4x4x16\n",
    "        self.fc1 = nn.Linear(4*4*16, 128) \n",
    "        self.fc2 = nn.Linear(128, 10)\n",
    "    def forward(self,X):\n",
    "        out = self.conv1(X) \n",
    "        out = F.relu(out)\n",
    "        out = self.avgpool1(out)  \n",
    "        out = self.conv2(out) \n",
    "        out = F.relu(out)\n",
    "        out = self.avgpool2(out)\n",
    "        out = out.view(X.size(0),-1)\n",
    "        out = self.fc1(out)\n",
    "        out = F.relu(out)\n",
    "        out = self.fc2(out)\n",
    "        out = F.log_softmax(out,dim=1)\n",
    "        return out "
   ]
  },
  {
   "cell_type": "code",
   "execution_count": 20,
   "metadata": {},
   "outputs": [],
   "source": [
    "model = LeNet()\n",
    "loss_func = nn.CrossEntropyLoss()\n",
    "optimizer = optim.SGD(model.parameters(), lr = 0.01, momentum=0.9)"
   ]
  },
  {
   "cell_type": "code",
   "execution_count": 33,
   "metadata": {},
   "outputs": [
    {
     "data": {
      "text/plain": [
       "LeNet(\n",
       "  (conv1): Conv2d(1, 6, kernel_size=(5, 5), stride=(1, 1))\n",
       "  (avgpool1): AvgPool2d(kernel_size=2, stride=2, padding=0)\n",
       "  (conv2): Conv2d(6, 16, kernel_size=(5, 5), stride=(1, 1))\n",
       "  (avgpool2): AvgPool2d(kernel_size=2, stride=2, padding=0)\n",
       "  (fc1): Linear(in_features=256, out_features=128, bias=True)\n",
       "  (fc2): Linear(in_features=128, out_features=10, bias=True)\n",
       ")"
      ]
     },
     "execution_count": 33,
     "metadata": {},
     "output_type": "execute_result"
    }
   ],
   "source": [
    "model"
   ]
  },
  {
   "cell_type": "markdown",
   "metadata": {},
   "source": [
    "## Train"
   ]
  },
  {
   "cell_type": "code",
   "execution_count": 36,
   "metadata": {},
   "outputs": [
    {
     "name": "stdout",
     "output_type": "stream",
     "text": [
      "Epoch:1, batch:   300, loss: 0.003\n",
      "Epoch:1, batch:   600, loss: 0.028\n",
      "Epoch:1, batch:   900, loss: 0.076\n",
      "Epoch:2, batch:   300, loss: 0.001\n",
      "Epoch:2, batch:   600, loss: 0.001\n",
      "Epoch:2, batch:   900, loss: 0.003\n"
     ]
    }
   ],
   "source": [
    "for epoch in range(2):  \n",
    "    for i,(X_train, y_train) in enumerate(train_loader):\n",
    "        optimizer.zero_grad()\n",
    "        y_pred = model(X_train)\n",
    "        loss = loss_func(y_pred, y_train)\n",
    "        loss.backward()\n",
    "        optimizer.step()\n",
    "        if i % 300 == 299:   \n",
    "            print('Epoch:%d, batch: %5d, loss: %.3f' %\n",
    "                  (epoch + 1, i + 1, loss.item()))\n"
   ]
  },
  {
   "cell_type": "markdown",
   "metadata": {},
   "source": [
    "## Test"
   ]
  },
  {
   "cell_type": "code",
   "execution_count": 41,
   "metadata": {},
   "outputs": [
    {
     "name": "stdout",
     "output_type": "stream",
     "text": [
      "average loss: 0.0005, acc: 9899/10000 (0.9899)\n"
     ]
    }
   ],
   "source": [
    "loss = 0\n",
    "correct = 0\n",
    "with torch.no_grad():\n",
    "    for X_test, y_test in test_loader:\n",
    "        y_pred = model(X_test)\n",
    "        loss += loss_func(y_pred, y_test)\n",
    "        y_pred = y_pred.max(1, keepdim=True)[1]\n",
    "        correct += y_pred.eq(y_test.view_as(y_pred)).sum().item()\n",
    "loss /= len(test_loader.dataset)\n",
    "print('average loss: %.4f, acc: %d/%d (%.4f)' % (loss, correct, len(test_loader.dataset), correct/len(test_loader.dataset)))"
   ]
  },
  {
   "cell_type": "code",
   "execution_count": 26,
   "metadata": {},
   "outputs": [
    {
     "name": "stderr",
     "output_type": "stream",
     "text": [
      "Clipping input data to the valid range for imshow with RGB data ([0..1] for floats or [0..255] for integers).\n"
     ]
    },
    {
     "data": {
      "image/png": "[encoded data removed]",
      "text/plain": [
       "<Figure size 432x288 with 1 Axes>"
      ]
     },
     "metadata": {
      "needs_background": "light"
     },
     "output_type": "display_data"
    },
    {
     "name": "stdout",
     "output_type": "stream",
     "text": [
      "GroundTruth:      6     0     1     8     7     3     8     1     5     4     4     7     0     3     3     0     5     9     4     7     5     6     8     3     4     8     0     1     7     9     4     4     7     9     4     2     3     1     4     7     9     4     5     8     5     4     9     2     2     9     8     8     1     2     4     6     4     6     9     2     2     6     4     4\n"
     ]
    }
   ],
   "source": [
    "dataiter = iter(test_loader)\n",
    "images, labels = dataiter.next()\n",
    "\n",
    "# print images\n",
    "imshow(torchvision.utils.make_grid(images))\n",
    "print('GroundTruth: ', ' '.join('%5s' % classes[labels[j]] for j in range(BATCH_SIZE)))\n"
   ]
  },
  {
   "cell_type": "code",
   "execution_count": 28,
   "metadata": {},
   "outputs": [
    {
     "name": "stdout",
     "output_type": "stream",
     "text": [
      "Predicted:      6     0     1     8     7     3     8     1     5     4     4     7     0     3     3     0     5     9     9     7     5     6     8     3     4     8     0     1     7     9     4     4     7     9     4     2     3     1     4     7     9     4     5     8     5     4     9     2     2     9     8     8     1     2     4     6     4     6     9     2     0     6     4     4\n"
     ]
    }
   ],
   "source": [
    "outputs = model(images)\n",
    "_, predicted = torch.max(outputs, 1)\n",
    "\n",
    "print('Predicted: ', ' '.join('%5s' % classes[predicted[j]]\n",
    "                              for j in range(BATCH_SIZE)))"
   ]
  }
 ],
 "metadata": {
  "kernelspec": {
   "display_name": "Python 3",
   "language": "python",
   "name": "python3"
  },
  "language_info": {
   "codemirror_mode": {
    "name": "ipython",
    "version": 3
   },
   "file_extension": ".py",
   "mimetype": "text/x-python",
   "name": "python",
   "nbconvert_exporter": "python",
   "pygments_lexer": "ipython3",
   "version": "3.6.8"
  }
 },
 "nbformat": 4,
 "nbformat_minor": 2
}
